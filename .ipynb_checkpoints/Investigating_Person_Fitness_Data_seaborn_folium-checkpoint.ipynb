{
 "cells": [
  {
   "cell_type": "markdown",
   "metadata": {},
   "source": [
    "# Investigating Personal Fitness Data\n",
    "\n",
    "By: Daniel Best<br>\n",
    "Email: dabest@umich.edu"
   ]
  },
  {
   "cell_type": "markdown",
   "metadata": {},
   "source": [
    "# Rule 1: Know Your Audience\n",
    "The following workbook will analyze and visualize fitness data compiled from the workouts of Professor Chris Brooks.  The goal of this analysis is to learn about the data and uncover some insights that will help Chris improve upon future workouts."
   ]
  },
  {
   "cell_type": "markdown",
   "metadata": {},
   "source": [
    "First, I will import packages that will the assist in this analysis and data wrangling.  These include pandas, numpy, regular expression (re), scipy stats."
   ]
  },
  {
   "cell_type": "code",
   "execution_count": 5,
   "metadata": {},
   "outputs": [],
   "source": [
    "import pandas as pd\n",
    "import numpy as np\n",
    "import re\n",
    "import scipy.stats as stats"
   ]
  },
  {
   "cell_type": "code",
   "execution_count": 6,
   "metadata": {},
   "outputs": [],
   "source": [
    "import warnings\n",
    "warnings.filterwarnings('ignore')"
   ]
  },
  {
   "cell_type": "markdown",
   "metadata": {},
   "source": [
    "Here I will import the visualization packages that will be used.  There is pyplot from matplotlib for basic visualizations, Seaborn for more advanced, well formatted, and easy to create charts, and folium for mapping.  Additionally, I will also show some of the charts included with just pandas."
   ]
  },
  {
   "cell_type": "code",
   "execution_count": 7,
   "metadata": {},
   "outputs": [],
   "source": [
    "%matplotlib inline\n",
    "import matplotlib.pyplot as plt\n",
    "import seaborn as sns\n",
    "plt.style.use('seaborn')\n",
    "# Let's import Folium\n",
    "import folium"
   ]
  },
  {
   "cell_type": "markdown",
   "metadata": {},
   "source": [
    "Below, I will read in the csv file, set the index to the timestamp column, tell pandas to automatically parse out the date fields, and replace missing values with the numpy nan (not a number).  I immediately print out the data types in the dataframe and the first 5 rows just to make sure the data is read in correctly and take a quick peek at the what is there."
   ]
  },
  {
   "cell_type": "code",
   "execution_count": 8,
   "metadata": {},
   "outputs": [
    {
     "data": {
      "text/plain": [
       "Air Power               float64\n",
       "Cadence                 float64\n",
       "Form Power              float64\n",
       "Ground Time             float64\n",
       "Leg Spring Stiffness    float64\n",
       "Power                   float64\n",
       "Vertical Oscillation    float64\n",
       "altitude                float64\n",
       "cadence                 float64\n",
       "datafile                 object\n",
       "distance                float64\n",
       "enhanced_altitude       float64\n",
       "enhanced_speed          float64\n",
       "fractional_cadence      float64\n",
       "heart_rate              float64\n",
       "position_lat            float64\n",
       "position_long           float64\n",
       "speed                   float64\n",
       "unknown_87              float64\n",
       "unknown_88              float64\n",
       "unknown_90              float64\n",
       "dtype: object"
      ]
     },
     "execution_count": 8,
     "metadata": {},
     "output_type": "execute_result"
    }
   ],
   "source": [
    "df = pd.read_csv('assets/strava.csv', index_col='timestamp', parse_dates=True, na_values=np.nan)\n",
    "df.dtypes"
   ]
  },
  {
   "cell_type": "code",
   "execution_count": 9,
   "metadata": {
    "scrolled": false
   },
   "outputs": [
    {
     "data": {
      "text/html": [
       "<div>\n",
       "<style scoped>\n",
       "    .dataframe tbody tr th:only-of-type {\n",
       "        vertical-align: middle;\n",
       "    }\n",
       "\n",
       "    .dataframe tbody tr th {\n",
       "        vertical-align: top;\n",
       "    }\n",
       "\n",
       "    .dataframe thead th {\n",
       "        text-align: right;\n",
       "    }\n",
       "</style>\n",
       "<table border=\"1\" class=\"dataframe\">\n",
       "  <thead>\n",
       "    <tr style=\"text-align: right;\">\n",
       "      <th></th>\n",
       "      <th>Air Power</th>\n",
       "      <th>Cadence</th>\n",
       "      <th>Form Power</th>\n",
       "      <th>Ground Time</th>\n",
       "      <th>Leg Spring Stiffness</th>\n",
       "      <th>Power</th>\n",
       "      <th>Vertical Oscillation</th>\n",
       "      <th>altitude</th>\n",
       "      <th>cadence</th>\n",
       "      <th>datafile</th>\n",
       "      <th>...</th>\n",
       "      <th>enhanced_altitude</th>\n",
       "      <th>enhanced_speed</th>\n",
       "      <th>fractional_cadence</th>\n",
       "      <th>heart_rate</th>\n",
       "      <th>position_lat</th>\n",
       "      <th>position_long</th>\n",
       "      <th>speed</th>\n",
       "      <th>unknown_87</th>\n",
       "      <th>unknown_88</th>\n",
       "      <th>unknown_90</th>\n",
       "    </tr>\n",
       "    <tr>\n",
       "      <th>timestamp</th>\n",
       "      <th></th>\n",
       "      <th></th>\n",
       "      <th></th>\n",
       "      <th></th>\n",
       "      <th></th>\n",
       "      <th></th>\n",
       "      <th></th>\n",
       "      <th></th>\n",
       "      <th></th>\n",
       "      <th></th>\n",
       "      <th></th>\n",
       "      <th></th>\n",
       "      <th></th>\n",
       "      <th></th>\n",
       "      <th></th>\n",
       "      <th></th>\n",
       "      <th></th>\n",
       "      <th></th>\n",
       "      <th></th>\n",
       "      <th></th>\n",
       "      <th></th>\n",
       "    </tr>\n",
       "  </thead>\n",
       "  <tbody>\n",
       "    <tr>\n",
       "      <th>2019-07-08 21:04:03</th>\n",
       "      <td>NaN</td>\n",
       "      <td>NaN</td>\n",
       "      <td>NaN</td>\n",
       "      <td>NaN</td>\n",
       "      <td>NaN</td>\n",
       "      <td>NaN</td>\n",
       "      <td>NaN</td>\n",
       "      <td>NaN</td>\n",
       "      <td>0.0</td>\n",
       "      <td>activities/2675855419.fit.gz</td>\n",
       "      <td>...</td>\n",
       "      <td>NaN</td>\n",
       "      <td>0.000</td>\n",
       "      <td>0.0</td>\n",
       "      <td>68.0</td>\n",
       "      <td>NaN</td>\n",
       "      <td>NaN</td>\n",
       "      <td>0.0</td>\n",
       "      <td>0.0</td>\n",
       "      <td>300.0</td>\n",
       "      <td>NaN</td>\n",
       "    </tr>\n",
       "    <tr>\n",
       "      <th>2019-07-08 21:04:04</th>\n",
       "      <td>NaN</td>\n",
       "      <td>NaN</td>\n",
       "      <td>NaN</td>\n",
       "      <td>NaN</td>\n",
       "      <td>NaN</td>\n",
       "      <td>NaN</td>\n",
       "      <td>NaN</td>\n",
       "      <td>NaN</td>\n",
       "      <td>0.0</td>\n",
       "      <td>activities/2675855419.fit.gz</td>\n",
       "      <td>...</td>\n",
       "      <td>NaN</td>\n",
       "      <td>0.000</td>\n",
       "      <td>0.0</td>\n",
       "      <td>68.0</td>\n",
       "      <td>NaN</td>\n",
       "      <td>NaN</td>\n",
       "      <td>0.0</td>\n",
       "      <td>0.0</td>\n",
       "      <td>300.0</td>\n",
       "      <td>NaN</td>\n",
       "    </tr>\n",
       "    <tr>\n",
       "      <th>2019-07-08 21:04:07</th>\n",
       "      <td>NaN</td>\n",
       "      <td>NaN</td>\n",
       "      <td>NaN</td>\n",
       "      <td>NaN</td>\n",
       "      <td>NaN</td>\n",
       "      <td>NaN</td>\n",
       "      <td>NaN</td>\n",
       "      <td>NaN</td>\n",
       "      <td>54.0</td>\n",
       "      <td>activities/2675855419.fit.gz</td>\n",
       "      <td>...</td>\n",
       "      <td>NaN</td>\n",
       "      <td>1.316</td>\n",
       "      <td>0.0</td>\n",
       "      <td>71.0</td>\n",
       "      <td>NaN</td>\n",
       "      <td>NaN</td>\n",
       "      <td>1316.0</td>\n",
       "      <td>0.0</td>\n",
       "      <td>300.0</td>\n",
       "      <td>NaN</td>\n",
       "    </tr>\n",
       "    <tr>\n",
       "      <th>2019-07-08 21:04:14</th>\n",
       "      <td>NaN</td>\n",
       "      <td>NaN</td>\n",
       "      <td>NaN</td>\n",
       "      <td>NaN</td>\n",
       "      <td>NaN</td>\n",
       "      <td>NaN</td>\n",
       "      <td>NaN</td>\n",
       "      <td>3747.0</td>\n",
       "      <td>77.0</td>\n",
       "      <td>activities/2675855419.fit.gz</td>\n",
       "      <td>...</td>\n",
       "      <td>249.4</td>\n",
       "      <td>1.866</td>\n",
       "      <td>0.0</td>\n",
       "      <td>77.0</td>\n",
       "      <td>504432050.0</td>\n",
       "      <td>-999063637.0</td>\n",
       "      <td>1866.0</td>\n",
       "      <td>0.0</td>\n",
       "      <td>100.0</td>\n",
       "      <td>NaN</td>\n",
       "    </tr>\n",
       "    <tr>\n",
       "      <th>2019-07-08 21:04:15</th>\n",
       "      <td>NaN</td>\n",
       "      <td>NaN</td>\n",
       "      <td>NaN</td>\n",
       "      <td>NaN</td>\n",
       "      <td>NaN</td>\n",
       "      <td>NaN</td>\n",
       "      <td>NaN</td>\n",
       "      <td>3798.0</td>\n",
       "      <td>77.0</td>\n",
       "      <td>activities/2675855419.fit.gz</td>\n",
       "      <td>...</td>\n",
       "      <td>259.6</td>\n",
       "      <td>1.894</td>\n",
       "      <td>0.0</td>\n",
       "      <td>80.0</td>\n",
       "      <td>504432492.0</td>\n",
       "      <td>-999064534.0</td>\n",
       "      <td>1894.0</td>\n",
       "      <td>0.0</td>\n",
       "      <td>100.0</td>\n",
       "      <td>NaN</td>\n",
       "    </tr>\n",
       "  </tbody>\n",
       "</table>\n",
       "<p>5 rows × 21 columns</p>\n",
       "</div>"
      ],
      "text/plain": [
       "                     Air Power  Cadence  Form Power  Ground Time  \\\n",
       "timestamp                                                          \n",
       "2019-07-08 21:04:03        NaN      NaN         NaN          NaN   \n",
       "2019-07-08 21:04:04        NaN      NaN         NaN          NaN   \n",
       "2019-07-08 21:04:07        NaN      NaN         NaN          NaN   \n",
       "2019-07-08 21:04:14        NaN      NaN         NaN          NaN   \n",
       "2019-07-08 21:04:15        NaN      NaN         NaN          NaN   \n",
       "\n",
       "                     Leg Spring Stiffness  Power  Vertical Oscillation  \\\n",
       "timestamp                                                                \n",
       "2019-07-08 21:04:03                   NaN    NaN                   NaN   \n",
       "2019-07-08 21:04:04                   NaN    NaN                   NaN   \n",
       "2019-07-08 21:04:07                   NaN    NaN                   NaN   \n",
       "2019-07-08 21:04:14                   NaN    NaN                   NaN   \n",
       "2019-07-08 21:04:15                   NaN    NaN                   NaN   \n",
       "\n",
       "                     altitude  cadence                      datafile  ...  \\\n",
       "timestamp                                                             ...   \n",
       "2019-07-08 21:04:03       NaN      0.0  activities/2675855419.fit.gz  ...   \n",
       "2019-07-08 21:04:04       NaN      0.0  activities/2675855419.fit.gz  ...   \n",
       "2019-07-08 21:04:07       NaN     54.0  activities/2675855419.fit.gz  ...   \n",
       "2019-07-08 21:04:14    3747.0     77.0  activities/2675855419.fit.gz  ...   \n",
       "2019-07-08 21:04:15    3798.0     77.0  activities/2675855419.fit.gz  ...   \n",
       "\n",
       "                     enhanced_altitude  enhanced_speed  fractional_cadence  \\\n",
       "timestamp                                                                    \n",
       "2019-07-08 21:04:03                NaN           0.000                 0.0   \n",
       "2019-07-08 21:04:04                NaN           0.000                 0.0   \n",
       "2019-07-08 21:04:07                NaN           1.316                 0.0   \n",
       "2019-07-08 21:04:14              249.4           1.866                 0.0   \n",
       "2019-07-08 21:04:15              259.6           1.894                 0.0   \n",
       "\n",
       "                     heart_rate  position_lat  position_long   speed  \\\n",
       "timestamp                                                              \n",
       "2019-07-08 21:04:03        68.0           NaN            NaN     0.0   \n",
       "2019-07-08 21:04:04        68.0           NaN            NaN     0.0   \n",
       "2019-07-08 21:04:07        71.0           NaN            NaN  1316.0   \n",
       "2019-07-08 21:04:14        77.0   504432050.0   -999063637.0  1866.0   \n",
       "2019-07-08 21:04:15        80.0   504432492.0   -999064534.0  1894.0   \n",
       "\n",
       "                     unknown_87  unknown_88  unknown_90  \n",
       "timestamp                                                \n",
       "2019-07-08 21:04:03         0.0       300.0         NaN  \n",
       "2019-07-08 21:04:04         0.0       300.0         NaN  \n",
       "2019-07-08 21:04:07         0.0       300.0         NaN  \n",
       "2019-07-08 21:04:14         0.0       100.0         NaN  \n",
       "2019-07-08 21:04:15         0.0       100.0         NaN  \n",
       "\n",
       "[5 rows x 21 columns]"
      ]
     },
     "execution_count": 9,
     "metadata": {},
     "output_type": "execute_result"
    }
   ],
   "source": [
    "df.head()"
   ]
  },
  {
   "cell_type": "markdown",
   "metadata": {},
   "source": [
    "The shape method will tell me exactly how many rows and columns there are in the dataframe, and the describe will automatically calculate summary statistics about the numeric fields in the data."
   ]
  },
  {
   "cell_type": "code",
   "execution_count": 10,
   "metadata": {},
   "outputs": [
    {
     "data": {
      "text/plain": [
       "(40649, 21)"
      ]
     },
     "execution_count": 10,
     "metadata": {},
     "output_type": "execute_result"
    }
   ],
   "source": [
    "df.shape"
   ]
  },
  {
   "cell_type": "code",
   "execution_count": 11,
   "metadata": {},
   "outputs": [
    {
     "data": {
      "text/html": [
       "<div>\n",
       "<style scoped>\n",
       "    .dataframe tbody tr th:only-of-type {\n",
       "        vertical-align: middle;\n",
       "    }\n",
       "\n",
       "    .dataframe tbody tr th {\n",
       "        vertical-align: top;\n",
       "    }\n",
       "\n",
       "    .dataframe thead th {\n",
       "        text-align: right;\n",
       "    }\n",
       "</style>\n",
       "<table border=\"1\" class=\"dataframe\">\n",
       "  <thead>\n",
       "    <tr style=\"text-align: right;\">\n",
       "      <th></th>\n",
       "      <th>Air Power</th>\n",
       "      <th>Cadence</th>\n",
       "      <th>Form Power</th>\n",
       "      <th>Ground Time</th>\n",
       "      <th>Leg Spring Stiffness</th>\n",
       "      <th>Power</th>\n",
       "      <th>Vertical Oscillation</th>\n",
       "      <th>altitude</th>\n",
       "      <th>cadence</th>\n",
       "      <th>distance</th>\n",
       "      <th>enhanced_altitude</th>\n",
       "      <th>enhanced_speed</th>\n",
       "      <th>fractional_cadence</th>\n",
       "      <th>heart_rate</th>\n",
       "      <th>position_lat</th>\n",
       "      <th>position_long</th>\n",
       "      <th>speed</th>\n",
       "      <th>unknown_87</th>\n",
       "      <th>unknown_88</th>\n",
       "      <th>unknown_90</th>\n",
       "    </tr>\n",
       "  </thead>\n",
       "  <tbody>\n",
       "    <tr>\n",
       "      <th>count</th>\n",
       "      <td>17842.000000</td>\n",
       "      <td>17847.000000</td>\n",
       "      <td>17842.000000</td>\n",
       "      <td>17847.000000</td>\n",
       "      <td>17842.000000</td>\n",
       "      <td>17847.000000</td>\n",
       "      <td>17847.000000</td>\n",
       "      <td>14905.000000</td>\n",
       "      <td>40627.000000</td>\n",
       "      <td>40649.000000</td>\n",
       "      <td>40598.000000</td>\n",
       "      <td>40639.000000</td>\n",
       "      <td>40627.000000</td>\n",
       "      <td>38355.000000</td>\n",
       "      <td>4.045700e+04</td>\n",
       "      <td>4.045700e+04</td>\n",
       "      <td>14928.000000</td>\n",
       "      <td>40627.0</td>\n",
       "      <td>38355.000000</td>\n",
       "      <td>18618.000000</td>\n",
       "    </tr>\n",
       "    <tr>\n",
       "      <th>mean</th>\n",
       "      <td>1.872100</td>\n",
       "      <td>77.726565</td>\n",
       "      <td>99.485932</td>\n",
       "      <td>325.934107</td>\n",
       "      <td>13.138571</td>\n",
       "      <td>301.459797</td>\n",
       "      <td>6.458074</td>\n",
       "      <td>3846.184368</td>\n",
       "      <td>72.781254</td>\n",
       "      <td>4097.140051</td>\n",
       "      <td>271.346027</td>\n",
       "      <td>3.037084</td>\n",
       "      <td>0.070138</td>\n",
       "      <td>134.680094</td>\n",
       "      <td>5.045408e+08</td>\n",
       "      <td>-9.995175e+08</td>\n",
       "      <td>2067.483856</td>\n",
       "      <td>0.0</td>\n",
       "      <td>298.513883</td>\n",
       "      <td>-1.067354</td>\n",
       "    </tr>\n",
       "    <tr>\n",
       "      <th>std</th>\n",
       "      <td>2.777476</td>\n",
       "      <td>9.202077</td>\n",
       "      <td>13.866222</td>\n",
       "      <td>71.773687</td>\n",
       "      <td>2.039567</td>\n",
       "      <td>48.540552</td>\n",
       "      <td>1.135497</td>\n",
       "      <td>134.262498</td>\n",
       "      <td>17.743728</td>\n",
       "      <td>5827.964663</td>\n",
       "      <td>25.035768</td>\n",
       "      <td>1.959805</td>\n",
       "      <td>0.173639</td>\n",
       "      <td>18.713782</td>\n",
       "      <td>1.690905e+05</td>\n",
       "      <td>1.376341e+06</td>\n",
       "      <td>527.173476</td>\n",
       "      <td>0.0</td>\n",
       "      <td>17.176218</td>\n",
       "      <td>2.820492</td>\n",
       "    </tr>\n",
       "    <tr>\n",
       "      <th>min</th>\n",
       "      <td>0.000000</td>\n",
       "      <td>0.000000</td>\n",
       "      <td>0.000000</td>\n",
       "      <td>0.000000</td>\n",
       "      <td>0.000000</td>\n",
       "      <td>0.000000</td>\n",
       "      <td>0.000000</td>\n",
       "      <td>3555.000000</td>\n",
       "      <td>0.000000</td>\n",
       "      <td>0.000000</td>\n",
       "      <td>209.000000</td>\n",
       "      <td>0.000000</td>\n",
       "      <td>0.000000</td>\n",
       "      <td>56.000000</td>\n",
       "      <td>5.039868e+08</td>\n",
       "      <td>-1.005696e+09</td>\n",
       "      <td>0.000000</td>\n",
       "      <td>0.0</td>\n",
       "      <td>100.000000</td>\n",
       "      <td>-13.000000</td>\n",
       "    </tr>\n",
       "    <tr>\n",
       "      <th>25%</th>\n",
       "      <td>1.000000</td>\n",
       "      <td>78.000000</td>\n",
       "      <td>97.000000</td>\n",
       "      <td>308.000000</td>\n",
       "      <td>13.000000</td>\n",
       "      <td>283.000000</td>\n",
       "      <td>6.125000</td>\n",
       "      <td>3768.000000</td>\n",
       "      <td>74.000000</td>\n",
       "      <td>1117.970000</td>\n",
       "      <td>252.800000</td>\n",
       "      <td>2.109000</td>\n",
       "      <td>0.000000</td>\n",
       "      <td>121.000000</td>\n",
       "      <td>5.044397e+08</td>\n",
       "      <td>-9.993986e+08</td>\n",
       "      <td>1782.000000</td>\n",
       "      <td>0.0</td>\n",
       "      <td>300.000000</td>\n",
       "      <td>-3.000000</td>\n",
       "    </tr>\n",
       "    <tr>\n",
       "      <th>50%</th>\n",
       "      <td>1.000000</td>\n",
       "      <td>79.000000</td>\n",
       "      <td>101.000000</td>\n",
       "      <td>326.000000</td>\n",
       "      <td>13.375000</td>\n",
       "      <td>303.000000</td>\n",
       "      <td>6.500000</td>\n",
       "      <td>3829.000000</td>\n",
       "      <td>78.000000</td>\n",
       "      <td>2430.500000</td>\n",
       "      <td>269.200000</td>\n",
       "      <td>2.445000</td>\n",
       "      <td>0.000000</td>\n",
       "      <td>136.000000</td>\n",
       "      <td>5.045116e+08</td>\n",
       "      <td>-9.992608e+08</td>\n",
       "      <td>2071.000000</td>\n",
       "      <td>0.0</td>\n",
       "      <td>300.000000</td>\n",
       "      <td>0.000000</td>\n",
       "    </tr>\n",
       "    <tr>\n",
       "      <th>75%</th>\n",
       "      <td>2.000000</td>\n",
       "      <td>80.000000</td>\n",
       "      <td>105.000000</td>\n",
       "      <td>340.000000</td>\n",
       "      <td>13.750000</td>\n",
       "      <td>326.000000</td>\n",
       "      <td>7.000000</td>\n",
       "      <td>3912.000000</td>\n",
       "      <td>80.000000</td>\n",
       "      <td>4403.730000</td>\n",
       "      <td>291.200000</td>\n",
       "      <td>2.809000</td>\n",
       "      <td>0.000000</td>\n",
       "      <td>148.000000</td>\n",
       "      <td>5.046159e+08</td>\n",
       "      <td>-9.990579e+08</td>\n",
       "      <td>2370.000000</td>\n",
       "      <td>0.0</td>\n",
       "      <td>300.000000</td>\n",
       "      <td>0.000000</td>\n",
       "    </tr>\n",
       "    <tr>\n",
       "      <th>max</th>\n",
       "      <td>48.000000</td>\n",
       "      <td>88.000000</td>\n",
       "      <td>125.000000</td>\n",
       "      <td>1732.000000</td>\n",
       "      <td>16.875000</td>\n",
       "      <td>462.000000</td>\n",
       "      <td>12.500000</td>\n",
       "      <td>5043.000000</td>\n",
       "      <td>118.000000</td>\n",
       "      <td>39007.120000</td>\n",
       "      <td>508.600000</td>\n",
       "      <td>15.349000</td>\n",
       "      <td>0.500000</td>\n",
       "      <td>183.000000</td>\n",
       "      <td>5.089272e+08</td>\n",
       "      <td>-9.921938e+08</td>\n",
       "      <td>7744.000000</td>\n",
       "      <td>0.0</td>\n",
       "      <td>300.000000</td>\n",
       "      <td>6.000000</td>\n",
       "    </tr>\n",
       "  </tbody>\n",
       "</table>\n",
       "</div>"
      ],
      "text/plain": [
       "          Air Power       Cadence    Form Power   Ground Time  \\\n",
       "count  17842.000000  17847.000000  17842.000000  17847.000000   \n",
       "mean       1.872100     77.726565     99.485932    325.934107   \n",
       "std        2.777476      9.202077     13.866222     71.773687   \n",
       "min        0.000000      0.000000      0.000000      0.000000   \n",
       "25%        1.000000     78.000000     97.000000    308.000000   \n",
       "50%        1.000000     79.000000    101.000000    326.000000   \n",
       "75%        2.000000     80.000000    105.000000    340.000000   \n",
       "max       48.000000     88.000000    125.000000   1732.000000   \n",
       "\n",
       "       Leg Spring Stiffness         Power  Vertical Oscillation      altitude  \\\n",
       "count          17842.000000  17847.000000          17847.000000  14905.000000   \n",
       "mean              13.138571    301.459797              6.458074   3846.184368   \n",
       "std                2.039567     48.540552              1.135497    134.262498   \n",
       "min                0.000000      0.000000              0.000000   3555.000000   \n",
       "25%               13.000000    283.000000              6.125000   3768.000000   \n",
       "50%               13.375000    303.000000              6.500000   3829.000000   \n",
       "75%               13.750000    326.000000              7.000000   3912.000000   \n",
       "max               16.875000    462.000000             12.500000   5043.000000   \n",
       "\n",
       "            cadence      distance  enhanced_altitude  enhanced_speed  \\\n",
       "count  40627.000000  40649.000000       40598.000000    40639.000000   \n",
       "mean      72.781254   4097.140051         271.346027        3.037084   \n",
       "std       17.743728   5827.964663          25.035768        1.959805   \n",
       "min        0.000000      0.000000         209.000000        0.000000   \n",
       "25%       74.000000   1117.970000         252.800000        2.109000   \n",
       "50%       78.000000   2430.500000         269.200000        2.445000   \n",
       "75%       80.000000   4403.730000         291.200000        2.809000   \n",
       "max      118.000000  39007.120000         508.600000       15.349000   \n",
       "\n",
       "       fractional_cadence    heart_rate  position_lat  position_long  \\\n",
       "count        40627.000000  38355.000000  4.045700e+04   4.045700e+04   \n",
       "mean             0.070138    134.680094  5.045408e+08  -9.995175e+08   \n",
       "std              0.173639     18.713782  1.690905e+05   1.376341e+06   \n",
       "min              0.000000     56.000000  5.039868e+08  -1.005696e+09   \n",
       "25%              0.000000    121.000000  5.044397e+08  -9.993986e+08   \n",
       "50%              0.000000    136.000000  5.045116e+08  -9.992608e+08   \n",
       "75%              0.000000    148.000000  5.046159e+08  -9.990579e+08   \n",
       "max              0.500000    183.000000  5.089272e+08  -9.921938e+08   \n",
       "\n",
       "              speed  unknown_87    unknown_88    unknown_90  \n",
       "count  14928.000000     40627.0  38355.000000  18618.000000  \n",
       "mean    2067.483856         0.0    298.513883     -1.067354  \n",
       "std      527.173476         0.0     17.176218      2.820492  \n",
       "min        0.000000         0.0    100.000000    -13.000000  \n",
       "25%     1782.000000         0.0    300.000000     -3.000000  \n",
       "50%     2071.000000         0.0    300.000000      0.000000  \n",
       "75%     2370.000000         0.0    300.000000      0.000000  \n",
       "max     7744.000000         0.0    300.000000      6.000000  "
      ]
     },
     "execution_count": 11,
     "metadata": {},
     "output_type": "execute_result"
    }
   ],
   "source": [
    "df.describe()"
   ]
  },
  {
   "cell_type": "code",
   "execution_count": 12,
   "metadata": {},
   "outputs": [],
   "source": [
    "# The day of the week with Monday=0, Sunday=6.\n",
    "weeks = { 0:'Monday', 1:'Tuesday', 2:'Wednesday', 3:'Thursday', 4:'Friday', 5:'Saturday',6:'Sunday'}"
   ]
  },
  {
   "cell_type": "code",
   "execution_count": 13,
   "metadata": {},
   "outputs": [
    {
     "data": {
      "text/html": [
       "<div>\n",
       "<style scoped>\n",
       "    .dataframe tbody tr th:only-of-type {\n",
       "        vertical-align: middle;\n",
       "    }\n",
       "\n",
       "    .dataframe tbody tr th {\n",
       "        vertical-align: top;\n",
       "    }\n",
       "\n",
       "    .dataframe thead th {\n",
       "        text-align: right;\n",
       "    }\n",
       "</style>\n",
       "<table border=\"1\" class=\"dataframe\">\n",
       "  <thead>\n",
       "    <tr style=\"text-align: right;\">\n",
       "      <th></th>\n",
       "      <th>Air Power</th>\n",
       "      <th>Cadence</th>\n",
       "      <th>Form Power</th>\n",
       "      <th>Ground Time</th>\n",
       "      <th>Leg Spring Stiffness</th>\n",
       "      <th>Power</th>\n",
       "      <th>Vertical Oscillation</th>\n",
       "      <th>altitude</th>\n",
       "      <th>cadence</th>\n",
       "      <th>datafile</th>\n",
       "      <th>...</th>\n",
       "      <th>heart_rate</th>\n",
       "      <th>position_lat</th>\n",
       "      <th>position_long</th>\n",
       "      <th>speed</th>\n",
       "      <th>unknown_87</th>\n",
       "      <th>unknown_88</th>\n",
       "      <th>unknown_90</th>\n",
       "      <th>date</th>\n",
       "      <th>time</th>\n",
       "      <th>day_of_week</th>\n",
       "    </tr>\n",
       "    <tr>\n",
       "      <th>timestamp</th>\n",
       "      <th></th>\n",
       "      <th></th>\n",
       "      <th></th>\n",
       "      <th></th>\n",
       "      <th></th>\n",
       "      <th></th>\n",
       "      <th></th>\n",
       "      <th></th>\n",
       "      <th></th>\n",
       "      <th></th>\n",
       "      <th></th>\n",
       "      <th></th>\n",
       "      <th></th>\n",
       "      <th></th>\n",
       "      <th></th>\n",
       "      <th></th>\n",
       "      <th></th>\n",
       "      <th></th>\n",
       "      <th></th>\n",
       "      <th></th>\n",
       "      <th></th>\n",
       "    </tr>\n",
       "  </thead>\n",
       "  <tbody>\n",
       "    <tr>\n",
       "      <th>2019-07-08 21:04:03</th>\n",
       "      <td>NaN</td>\n",
       "      <td>NaN</td>\n",
       "      <td>NaN</td>\n",
       "      <td>NaN</td>\n",
       "      <td>NaN</td>\n",
       "      <td>NaN</td>\n",
       "      <td>NaN</td>\n",
       "      <td>NaN</td>\n",
       "      <td>0.0</td>\n",
       "      <td>activities/2675855419.fit.gz</td>\n",
       "      <td>...</td>\n",
       "      <td>68.0</td>\n",
       "      <td>NaN</td>\n",
       "      <td>NaN</td>\n",
       "      <td>0.0</td>\n",
       "      <td>0.0</td>\n",
       "      <td>300.0</td>\n",
       "      <td>NaN</td>\n",
       "      <td>2019-07-08</td>\n",
       "      <td>21:04:03</td>\n",
       "      <td>Monday</td>\n",
       "    </tr>\n",
       "    <tr>\n",
       "      <th>2019-07-08 21:04:04</th>\n",
       "      <td>NaN</td>\n",
       "      <td>NaN</td>\n",
       "      <td>NaN</td>\n",
       "      <td>NaN</td>\n",
       "      <td>NaN</td>\n",
       "      <td>NaN</td>\n",
       "      <td>NaN</td>\n",
       "      <td>NaN</td>\n",
       "      <td>0.0</td>\n",
       "      <td>activities/2675855419.fit.gz</td>\n",
       "      <td>...</td>\n",
       "      <td>68.0</td>\n",
       "      <td>NaN</td>\n",
       "      <td>NaN</td>\n",
       "      <td>0.0</td>\n",
       "      <td>0.0</td>\n",
       "      <td>300.0</td>\n",
       "      <td>NaN</td>\n",
       "      <td>2019-07-08</td>\n",
       "      <td>21:04:04</td>\n",
       "      <td>Monday</td>\n",
       "    </tr>\n",
       "    <tr>\n",
       "      <th>2019-07-08 21:04:07</th>\n",
       "      <td>NaN</td>\n",
       "      <td>NaN</td>\n",
       "      <td>NaN</td>\n",
       "      <td>NaN</td>\n",
       "      <td>NaN</td>\n",
       "      <td>NaN</td>\n",
       "      <td>NaN</td>\n",
       "      <td>NaN</td>\n",
       "      <td>54.0</td>\n",
       "      <td>activities/2675855419.fit.gz</td>\n",
       "      <td>...</td>\n",
       "      <td>71.0</td>\n",
       "      <td>NaN</td>\n",
       "      <td>NaN</td>\n",
       "      <td>1316.0</td>\n",
       "      <td>0.0</td>\n",
       "      <td>300.0</td>\n",
       "      <td>NaN</td>\n",
       "      <td>2019-07-08</td>\n",
       "      <td>21:04:07</td>\n",
       "      <td>Monday</td>\n",
       "    </tr>\n",
       "    <tr>\n",
       "      <th>2019-07-08 21:04:14</th>\n",
       "      <td>NaN</td>\n",
       "      <td>NaN</td>\n",
       "      <td>NaN</td>\n",
       "      <td>NaN</td>\n",
       "      <td>NaN</td>\n",
       "      <td>NaN</td>\n",
       "      <td>NaN</td>\n",
       "      <td>3747.0</td>\n",
       "      <td>77.0</td>\n",
       "      <td>activities/2675855419.fit.gz</td>\n",
       "      <td>...</td>\n",
       "      <td>77.0</td>\n",
       "      <td>504432050.0</td>\n",
       "      <td>-999063637.0</td>\n",
       "      <td>1866.0</td>\n",
       "      <td>0.0</td>\n",
       "      <td>100.0</td>\n",
       "      <td>NaN</td>\n",
       "      <td>2019-07-08</td>\n",
       "      <td>21:04:14</td>\n",
       "      <td>Monday</td>\n",
       "    </tr>\n",
       "    <tr>\n",
       "      <th>2019-07-08 21:04:15</th>\n",
       "      <td>NaN</td>\n",
       "      <td>NaN</td>\n",
       "      <td>NaN</td>\n",
       "      <td>NaN</td>\n",
       "      <td>NaN</td>\n",
       "      <td>NaN</td>\n",
       "      <td>NaN</td>\n",
       "      <td>3798.0</td>\n",
       "      <td>77.0</td>\n",
       "      <td>activities/2675855419.fit.gz</td>\n",
       "      <td>...</td>\n",
       "      <td>80.0</td>\n",
       "      <td>504432492.0</td>\n",
       "      <td>-999064534.0</td>\n",
       "      <td>1894.0</td>\n",
       "      <td>0.0</td>\n",
       "      <td>100.0</td>\n",
       "      <td>NaN</td>\n",
       "      <td>2019-07-08</td>\n",
       "      <td>21:04:15</td>\n",
       "      <td>Monday</td>\n",
       "    </tr>\n",
       "    <tr>\n",
       "      <th>...</th>\n",
       "      <td>...</td>\n",
       "      <td>...</td>\n",
       "      <td>...</td>\n",
       "      <td>...</td>\n",
       "      <td>...</td>\n",
       "      <td>...</td>\n",
       "      <td>...</td>\n",
       "      <td>...</td>\n",
       "      <td>...</td>\n",
       "      <td>...</td>\n",
       "      <td>...</td>\n",
       "      <td>...</td>\n",
       "      <td>...</td>\n",
       "      <td>...</td>\n",
       "      <td>...</td>\n",
       "      <td>...</td>\n",
       "      <td>...</td>\n",
       "      <td>...</td>\n",
       "      <td>...</td>\n",
       "      <td>...</td>\n",
       "      <td>...</td>\n",
       "    </tr>\n",
       "    <tr>\n",
       "      <th>2019-10-03 23:04:54</th>\n",
       "      <td>NaN</td>\n",
       "      <td>NaN</td>\n",
       "      <td>NaN</td>\n",
       "      <td>NaN</td>\n",
       "      <td>NaN</td>\n",
       "      <td>NaN</td>\n",
       "      <td>NaN</td>\n",
       "      <td>NaN</td>\n",
       "      <td>62.0</td>\n",
       "      <td>activities/2925939753.fit.gz</td>\n",
       "      <td>...</td>\n",
       "      <td>143.0</td>\n",
       "      <td>504554553.0</td>\n",
       "      <td>-999308618.0</td>\n",
       "      <td>NaN</td>\n",
       "      <td>0.0</td>\n",
       "      <td>300.0</td>\n",
       "      <td>NaN</td>\n",
       "      <td>2019-10-03</td>\n",
       "      <td>23:04:54</td>\n",
       "      <td>Thursday</td>\n",
       "    </tr>\n",
       "    <tr>\n",
       "      <th>2019-10-03 23:04:56</th>\n",
       "      <td>NaN</td>\n",
       "      <td>NaN</td>\n",
       "      <td>NaN</td>\n",
       "      <td>NaN</td>\n",
       "      <td>NaN</td>\n",
       "      <td>NaN</td>\n",
       "      <td>NaN</td>\n",
       "      <td>NaN</td>\n",
       "      <td>62.0</td>\n",
       "      <td>activities/2925939753.fit.gz</td>\n",
       "      <td>...</td>\n",
       "      <td>142.0</td>\n",
       "      <td>504553919.0</td>\n",
       "      <td>-999309466.0</td>\n",
       "      <td>NaN</td>\n",
       "      <td>0.0</td>\n",
       "      <td>300.0</td>\n",
       "      <td>NaN</td>\n",
       "      <td>2019-10-03</td>\n",
       "      <td>23:04:56</td>\n",
       "      <td>Thursday</td>\n",
       "    </tr>\n",
       "    <tr>\n",
       "      <th>2019-10-03 23:04:57</th>\n",
       "      <td>NaN</td>\n",
       "      <td>NaN</td>\n",
       "      <td>NaN</td>\n",
       "      <td>NaN</td>\n",
       "      <td>NaN</td>\n",
       "      <td>NaN</td>\n",
       "      <td>NaN</td>\n",
       "      <td>NaN</td>\n",
       "      <td>62.0</td>\n",
       "      <td>activities/2925939753.fit.gz</td>\n",
       "      <td>...</td>\n",
       "      <td>142.0</td>\n",
       "      <td>504553588.0</td>\n",
       "      <td>-999309432.0</td>\n",
       "      <td>NaN</td>\n",
       "      <td>0.0</td>\n",
       "      <td>300.0</td>\n",
       "      <td>NaN</td>\n",
       "      <td>2019-10-03</td>\n",
       "      <td>23:04:57</td>\n",
       "      <td>Thursday</td>\n",
       "    </tr>\n",
       "    <tr>\n",
       "      <th>2019-10-03 23:05:02</th>\n",
       "      <td>NaN</td>\n",
       "      <td>NaN</td>\n",
       "      <td>NaN</td>\n",
       "      <td>NaN</td>\n",
       "      <td>NaN</td>\n",
       "      <td>NaN</td>\n",
       "      <td>NaN</td>\n",
       "      <td>NaN</td>\n",
       "      <td>23.0</td>\n",
       "      <td>activities/2925939753.fit.gz</td>\n",
       "      <td>...</td>\n",
       "      <td>138.0</td>\n",
       "      <td>504552459.0</td>\n",
       "      <td>-999308808.0</td>\n",
       "      <td>NaN</td>\n",
       "      <td>0.0</td>\n",
       "      <td>300.0</td>\n",
       "      <td>NaN</td>\n",
       "      <td>2019-10-03</td>\n",
       "      <td>23:05:02</td>\n",
       "      <td>Thursday</td>\n",
       "    </tr>\n",
       "    <tr>\n",
       "      <th>2019-10-03 23:05:05</th>\n",
       "      <td>NaN</td>\n",
       "      <td>NaN</td>\n",
       "      <td>NaN</td>\n",
       "      <td>NaN</td>\n",
       "      <td>NaN</td>\n",
       "      <td>NaN</td>\n",
       "      <td>NaN</td>\n",
       "      <td>NaN</td>\n",
       "      <td>22.0</td>\n",
       "      <td>activities/2925939753.fit.gz</td>\n",
       "      <td>...</td>\n",
       "      <td>135.0</td>\n",
       "      <td>504552222.0</td>\n",
       "      <td>-999308613.0</td>\n",
       "      <td>NaN</td>\n",
       "      <td>0.0</td>\n",
       "      <td>300.0</td>\n",
       "      <td>NaN</td>\n",
       "      <td>2019-10-03</td>\n",
       "      <td>23:05:05</td>\n",
       "      <td>Thursday</td>\n",
       "    </tr>\n",
       "  </tbody>\n",
       "</table>\n",
       "<p>40649 rows × 24 columns</p>\n",
       "</div>"
      ],
      "text/plain": [
       "                     Air Power  Cadence  Form Power  Ground Time  \\\n",
       "timestamp                                                          \n",
       "2019-07-08 21:04:03        NaN      NaN         NaN          NaN   \n",
       "2019-07-08 21:04:04        NaN      NaN         NaN          NaN   \n",
       "2019-07-08 21:04:07        NaN      NaN         NaN          NaN   \n",
       "2019-07-08 21:04:14        NaN      NaN         NaN          NaN   \n",
       "2019-07-08 21:04:15        NaN      NaN         NaN          NaN   \n",
       "...                        ...      ...         ...          ...   \n",
       "2019-10-03 23:04:54        NaN      NaN         NaN          NaN   \n",
       "2019-10-03 23:04:56        NaN      NaN         NaN          NaN   \n",
       "2019-10-03 23:04:57        NaN      NaN         NaN          NaN   \n",
       "2019-10-03 23:05:02        NaN      NaN         NaN          NaN   \n",
       "2019-10-03 23:05:05        NaN      NaN         NaN          NaN   \n",
       "\n",
       "                     Leg Spring Stiffness  Power  Vertical Oscillation  \\\n",
       "timestamp                                                                \n",
       "2019-07-08 21:04:03                   NaN    NaN                   NaN   \n",
       "2019-07-08 21:04:04                   NaN    NaN                   NaN   \n",
       "2019-07-08 21:04:07                   NaN    NaN                   NaN   \n",
       "2019-07-08 21:04:14                   NaN    NaN                   NaN   \n",
       "2019-07-08 21:04:15                   NaN    NaN                   NaN   \n",
       "...                                   ...    ...                   ...   \n",
       "2019-10-03 23:04:54                   NaN    NaN                   NaN   \n",
       "2019-10-03 23:04:56                   NaN    NaN                   NaN   \n",
       "2019-10-03 23:04:57                   NaN    NaN                   NaN   \n",
       "2019-10-03 23:05:02                   NaN    NaN                   NaN   \n",
       "2019-10-03 23:05:05                   NaN    NaN                   NaN   \n",
       "\n",
       "                     altitude  cadence                      datafile  ...  \\\n",
       "timestamp                                                             ...   \n",
       "2019-07-08 21:04:03       NaN      0.0  activities/2675855419.fit.gz  ...   \n",
       "2019-07-08 21:04:04       NaN      0.0  activities/2675855419.fit.gz  ...   \n",
       "2019-07-08 21:04:07       NaN     54.0  activities/2675855419.fit.gz  ...   \n",
       "2019-07-08 21:04:14    3747.0     77.0  activities/2675855419.fit.gz  ...   \n",
       "2019-07-08 21:04:15    3798.0     77.0  activities/2675855419.fit.gz  ...   \n",
       "...                       ...      ...                           ...  ...   \n",
       "2019-10-03 23:04:54       NaN     62.0  activities/2925939753.fit.gz  ...   \n",
       "2019-10-03 23:04:56       NaN     62.0  activities/2925939753.fit.gz  ...   \n",
       "2019-10-03 23:04:57       NaN     62.0  activities/2925939753.fit.gz  ...   \n",
       "2019-10-03 23:05:02       NaN     23.0  activities/2925939753.fit.gz  ...   \n",
       "2019-10-03 23:05:05       NaN     22.0  activities/2925939753.fit.gz  ...   \n",
       "\n",
       "                     heart_rate  position_lat  position_long   speed  \\\n",
       "timestamp                                                              \n",
       "2019-07-08 21:04:03        68.0           NaN            NaN     0.0   \n",
       "2019-07-08 21:04:04        68.0           NaN            NaN     0.0   \n",
       "2019-07-08 21:04:07        71.0           NaN            NaN  1316.0   \n",
       "2019-07-08 21:04:14        77.0   504432050.0   -999063637.0  1866.0   \n",
       "2019-07-08 21:04:15        80.0   504432492.0   -999064534.0  1894.0   \n",
       "...                         ...           ...            ...     ...   \n",
       "2019-10-03 23:04:54       143.0   504554553.0   -999308618.0     NaN   \n",
       "2019-10-03 23:04:56       142.0   504553919.0   -999309466.0     NaN   \n",
       "2019-10-03 23:04:57       142.0   504553588.0   -999309432.0     NaN   \n",
       "2019-10-03 23:05:02       138.0   504552459.0   -999308808.0     NaN   \n",
       "2019-10-03 23:05:05       135.0   504552222.0   -999308613.0     NaN   \n",
       "\n",
       "                     unknown_87  unknown_88  unknown_90        date      time  \\\n",
       "timestamp                                                                       \n",
       "2019-07-08 21:04:03         0.0       300.0         NaN  2019-07-08  21:04:03   \n",
       "2019-07-08 21:04:04         0.0       300.0         NaN  2019-07-08  21:04:04   \n",
       "2019-07-08 21:04:07         0.0       300.0         NaN  2019-07-08  21:04:07   \n",
       "2019-07-08 21:04:14         0.0       100.0         NaN  2019-07-08  21:04:14   \n",
       "2019-07-08 21:04:15         0.0       100.0         NaN  2019-07-08  21:04:15   \n",
       "...                         ...         ...         ...         ...       ...   \n",
       "2019-10-03 23:04:54         0.0       300.0         NaN  2019-10-03  23:04:54   \n",
       "2019-10-03 23:04:56         0.0       300.0         NaN  2019-10-03  23:04:56   \n",
       "2019-10-03 23:04:57         0.0       300.0         NaN  2019-10-03  23:04:57   \n",
       "2019-10-03 23:05:02         0.0       300.0         NaN  2019-10-03  23:05:02   \n",
       "2019-10-03 23:05:05         0.0       300.0         NaN  2019-10-03  23:05:05   \n",
       "\n",
       "                     day_of_week  \n",
       "timestamp                         \n",
       "2019-07-08 21:04:03       Monday  \n",
       "2019-07-08 21:04:04       Monday  \n",
       "2019-07-08 21:04:07       Monday  \n",
       "2019-07-08 21:04:14       Monday  \n",
       "2019-07-08 21:04:15       Monday  \n",
       "...                          ...  \n",
       "2019-10-03 23:04:54     Thursday  \n",
       "2019-10-03 23:04:56     Thursday  \n",
       "2019-10-03 23:04:57     Thursday  \n",
       "2019-10-03 23:05:02     Thursday  \n",
       "2019-10-03 23:05:05     Thursday  \n",
       "\n",
       "[40649 rows x 24 columns]"
      ]
     },
     "execution_count": 13,
     "metadata": {},
     "output_type": "execute_result"
    }
   ],
   "source": [
    "df.loc[:,'date'] = pd.to_datetime(df.index).date\n",
    "df.loc[:,'time'] = pd.to_datetime(df.index).time\n",
    "df.loc[:,'day_of_week'] = pd.to_datetime(df.index).dayofweek.map(weeks)\n",
    "df"
   ]
  },
  {
   "cell_type": "markdown",
   "metadata": {},
   "source": [
    "# Histograms\n",
    "Now that I've taken a look at the data, and calculated some statistics on the numeric fields, I want to plot some histograms for those numeric fields.  I will write some code below that will automatically create a list of the numeric fields column names in preparation for the charts."
   ]
  },
  {
   "cell_type": "code",
   "execution_count": 14,
   "metadata": {},
   "outputs": [
    {
     "data": {
      "text/plain": [
       "Index(['Air Power', 'Cadence', 'Form Power', 'Ground Time',\n",
       "       'Leg Spring Stiffness', 'Power', 'Vertical Oscillation', 'altitude',\n",
       "       'cadence', 'datafile', 'distance', 'enhanced_altitude',\n",
       "       'enhanced_speed', 'fractional_cadence', 'heart_rate', 'position_lat',\n",
       "       'position_long', 'speed', 'unknown_87', 'unknown_88', 'unknown_90',\n",
       "       'date', 'time', 'day_of_week'],\n",
       "      dtype='object')"
      ]
     },
     "execution_count": 14,
     "metadata": {},
     "output_type": "execute_result"
    }
   ],
   "source": [
    "df.columns"
   ]
  },
  {
   "cell_type": "code",
   "execution_count": 15,
   "metadata": {},
   "outputs": [
    {
     "data": {
      "text/plain": [
       "20"
      ]
     },
     "execution_count": 15,
     "metadata": {},
     "output_type": "execute_result"
    }
   ],
   "source": [
    "numerical_columns = df.select_dtypes(include=np.number).columns.tolist()\n",
    "len(numerical_columns)"
   ]
  },
  {
   "cell_type": "markdown",
   "metadata": {},
   "source": [
    "Now that we have a list of the numeric columns, it's time to plot the histograms.  I have decided to overlay a normal distribution over the histograms to more easily see if the distribution is normal or not.<br>\n",
    "<br>\n",
    "# Rule 5: Do Not Trust the Defaults\n",
    "Using subplots, the code below loops through all the possible coordinates for the plots and creates the histograms.  Additionally, I am adding a legend that includes the field name and the count of observations.  I resize the frame and set the number of bins to 100.  If I do not increase the bin sise, I will miss out on the bimodal distribution of speed."
   ]
  },
  {
   "cell_type": "code",
   "execution_count": null,
   "metadata": {
    "scrolled": false
   },
   "outputs": [],
   "source": [
    "y = int(len(numerical_columns)/2)\n",
    "\n",
    "num_cols = np.array(numerical_columns).reshape(y,2)\n",
    "fig, axs = plt.subplots(y, 2)\n",
    "plt.gcf().set_size_inches(16,64)\n",
    "for y in range(y):\n",
    "    for x in range(2):\n",
    "        data = df[num_cols[y,x]].dropna()\n",
    "        axs[y, x].hist(data,density=True, label=num_cols[y,x]+', n='+str(len(data)), bins=100)\n",
    "        axs[y, x].set_title(num_cols[y,x])\n",
    "        axs[y, x].set_xlabel(\"Observed Values\")\n",
    "        axs[y, x].set_ylabel(\"Probability Density\")\n",
    "\n",
    "        sw = np.asarray(data)\n",
    "        sw = sorted(sw)\n",
    "\n",
    "        fit = stats.norm.pdf(sw, np.mean(sw), np.std(sw))\n",
    "\n",
    "        #Now, we can plot both series on the histogram\n",
    "        axs[y, x].plot(sw,fit,\"--\", linewidth = 2, label=\"Normal distribution with same mean and var\")\n",
    "        axs[y, x].legend()\n"
   ]
  },
  {
   "cell_type": "markdown",
   "metadata": {},
   "source": [
    "Upon reviewing the histograms, I notice two things right off the bat.  First, the enhanced speed field seems to be bimodal, while the speed field is not.  The second thing of interest is that some fields appear to be redundant or unknown, so some cleanup of the columns may be in order.<br>\n",
    "<br>\n",
    "The enhanced speed field is more fully populated, so this data is likely gathered from a device that Chris wore while running and cycling.  I will first re-plot the histogram below, and then I will apply some logic to label workouts as either Running or Cycling."
   ]
  },
  {
   "cell_type": "code",
   "execution_count": null,
   "metadata": {},
   "outputs": [],
   "source": [
    "data = df[\"enhanced_speed\"].dropna()\n",
    "plt.hist(data,density=True, label='enhanced_speed'+', n='+str(len(data)), bins=100)\n",
    "plt.legend()\n",
    " # I'm going to make a call-out to this message and drop it on our plot as well\n",
    "plt.annotate('Second peak of bimodal distribution' ,\n",
    "         xy=(7.5, .05), xycoords='data', xytext=(6, .2), textcoords='data', \n",
    "         arrowprops=dict(arrowstyle='->, head_width=0.2', linewidth=2));"
   ]
  },
  {
   "cell_type": "markdown",
   "metadata": {},
   "source": [
    "This is clearly a bimodal distribution, just not blatantly noticable in the histogram.  I will calculate the min, max, and average speeds of the workouts.  Since cycling has much higher attainable speeds than running, I am hoping this will clearly show a split between the cycling and running exercises.  First I will use groupby and aggregate to caclulate these metrics below."
   ]
  },
  {
   "cell_type": "code",
   "execution_count": null,
   "metadata": {},
   "outputs": [],
   "source": [
    "df_min_max = df.groupby('datafile')['enhanced_speed'].agg(['min','max',np.mean])\n",
    "df_min_max.columns = ['min_speed', 'max_speed', 'avg_speed']"
   ]
  },
  {
   "cell_type": "code",
   "execution_count": null,
   "metadata": {},
   "outputs": [],
   "source": [
    "df_min_max"
   ]
  },
  {
   "cell_type": "markdown",
   "metadata": {},
   "source": [
    "Now, I will use the pandas built in plot method to easily plot this line chart.  I will rotate the x labels for readability, after inspection, add an orange cutoff line to clearly distinguish between the running and cycling exercises."
   ]
  },
  {
   "cell_type": "code",
   "execution_count": null,
   "metadata": {},
   "outputs": [],
   "source": [
    "df_min_max.plot(rot=60)\n",
    "plt.tight_layout()\n",
    "plt.axhline(5, color='orange', linestyle='-.', zorder=0)\n",
    "plt.show()"
   ]
  },
  {
   "cell_type": "markdown",
   "metadata": {},
   "source": [
    "You can see above that on the right hand side of the plot area, there is a spike in both maximum speed and average speed.  I have drawn the orange line at an average speed of 5 m/s, which is over 11 mph.  I would imagine that Professor Brooks is not running with an average pace of 5.5 minutes per mile, so I belief it safe to say that any exercise with an average speed above the orange line can be classified as a cycling activity.<br>\n",
    "<br>\n",
    "I will create a categorical flag below by filtering on the average speed, and then I will join this categorical flag on to the full fitness dataset."
   ]
  },
  {
   "cell_type": "code",
   "execution_count": null,
   "metadata": {},
   "outputs": [],
   "source": [
    "df_min_max.loc[df_min_max['avg_speed'] > 5,'activity'] = 'Cycling'\n",
    "df_min_max.loc[:,'activity'].fillna('Running',inplace=True)"
   ]
  },
  {
   "cell_type": "code",
   "execution_count": null,
   "metadata": {},
   "outputs": [],
   "source": [
    "df_labels = df.join(df_min_max,on='datafile')"
   ]
  },
  {
   "cell_type": "code",
   "execution_count": null,
   "metadata": {},
   "outputs": [],
   "source": [
    "df_labels"
   ]
  },
  {
   "cell_type": "markdown",
   "metadata": {},
   "source": [
    "In the next section I will drop redundant columns and plot a scatter plot matrix"
   ]
  },
  {
   "cell_type": "markdown",
   "metadata": {},
   "source": [
    "# Scatter Plot Matrix"
   ]
  },
  {
   "cell_type": "markdown",
   "metadata": {},
   "source": [
    "First, I will make a list of fields to drop.  These fields were identified when I did the histograms above as columns that were either better represented by another column (redundant), did not contain any valuable data, e.g. single value in the column for all rows, or is an unknown field.<br>\n",
    "<br>\n",
    "I remove these fields from my previous list of numeric columns, and then I append the new 'activity' column so that I can highlight whether a data point is for running or cycling."
   ]
  },
  {
   "cell_type": "code",
   "execution_count": null,
   "metadata": {},
   "outputs": [],
   "source": [
    "fields_to_drop = ['altitude', 'Cadence', 'fractional_cadence', 'position_lat', 'position_long', 'speed', 'unknown_87', 'unknown_88', 'unknown_90']\n",
    "numerical_columns2 = numerical_columns.copy()\n",
    "for f in fields_to_drop:\n",
    "    numerical_columns2.remove(f)\n",
    "numerical_columns2.append('activity')\n",
    "numerical_columns2"
   ]
  },
  {
   "cell_type": "markdown",
   "metadata": {},
   "source": [
    "First, I will do the pair plot (scatter plot matrix) on all the numerical columns.  There are a lot of fields to be shown, but it should still be good enough to capture trends.  The color, or 'hue' variations are for the activity, cycling vs running, and as you will see below, not all of the columns recorded data for both activities.<br>\n",
    "<br>\n"
   ]
  },
  {
   "cell_type": "code",
   "execution_count": null,
   "metadata": {},
   "outputs": [],
   "source": [
    "sns.pairplot(df_labels.loc[:,numerical_columns2],hue='activity');"
   ]
  },
  {
   "cell_type": "markdown",
   "metadata": {},
   "source": [
    "It looks like there are some trends with Power and Speed, and also with Power and Ground Time.  I will make a note to review those plots further down below.<br>\n",
    "<br>\n",
    "First, I want to do another pair plot with just the columns that have both cycling and running, to see if a closer look will give us any additional insights.<br>\n",
    "<br>\n",
    "The code below identifies the columns with the data we want to plot, and then filters the dataframe to just those columns before calling the Seaborn pairplot again."
   ]
  },
  {
   "cell_type": "code",
   "execution_count": null,
   "metadata": {},
   "outputs": [],
   "source": [
    "cols_both = ['cadence', 'distance', 'enhanced_altitude', 'enhanced_speed', 'heart_rate', 'activity']\n",
    "sns.pairplot(df_labels.loc[:,cols_both],hue='activity');"
   ]
  },
  {
   "cell_type": "markdown",
   "metadata": {},
   "source": [
    "It looks like there may be some correlation between enhanced speed and heart rate.  This seems to make sense intuitively that if you are going faster, either running or cycling, that you would have an elevated heart rate.<br>\n",
    "<br>"
   ]
  },
  {
   "cell_type": "markdown",
   "metadata": {},
   "source": [
    "# Scatter Plots and Reg Plot (Regression line on scatter)"
   ]
  },
  {
   "cell_type": "markdown",
   "metadata": {},
   "source": [
    "Below, I will do a Seaborn scatter plot on just the enhanced speed vs heart rate.  The color and style represent the activity, and additionally, I will set an alpha value to .25 to decrease the opacity of the points in hopes to better see the points for Running that were hidden behind the cycling points."
   ]
  },
  {
   "cell_type": "code",
   "execution_count": null,
   "metadata": {},
   "outputs": [],
   "source": [
    "sns.scatterplot(data=df_labels, x='enhanced_speed', y='heart_rate', hue='activity', style='activity', alpha=.25)"
   ]
  },
  {
   "cell_type": "markdown",
   "metadata": {},
   "source": [
    "It appears that there may be a positive correlation between speed and heart rate for both cycling and running.  In order to test this hypothesis, I will split the data set on the activity, and run a seaborn regplot for each.  The Reg plot will show the fitted regression line for the data.  If the line is horizontal, there is no correlation between the two columns.  The steeper the slope of the line, the more positive correlation there is.  Let's see how each of them look:"
   ]
  },
  {
   "cell_type": "markdown",
   "metadata": {},
   "source": [
    "First with The Cycling Data"
   ]
  },
  {
   "cell_type": "code",
   "execution_count": null,
   "metadata": {},
   "outputs": [],
   "source": [
    "sns.regplot(data=df_labels.loc[df_labels['activity']=='Cycling',:], x='enhanced_speed', y='heart_rate')\n",
    "plt.title('Cycling Data');"
   ]
  },
  {
   "cell_type": "markdown",
   "metadata": {},
   "source": [
    "Great, so there is a slight positive correlatin between speed and heart rate in cycling.<br>\n",
    "<br>\n",
    "Next, I'll to another reg plot for the running data."
   ]
  },
  {
   "cell_type": "code",
   "execution_count": null,
   "metadata": {},
   "outputs": [],
   "source": [
    "sns.regplot(data=df_labels.loc[df_labels['activity']=='Running',:], x='enhanced_speed', y='heart_rate')\n",
    "plt.title('Running Data');"
   ]
  },
  {
   "cell_type": "markdown",
   "metadata": {},
   "source": [
    "Even stronger!  So comparing these two charts shows that there is a stronger positive correlation between speed and heart rate while running than there is between speed and heart rate while cycling.<br>\n",
    "This may be something to look into further, especially if one or your goals of working out is to maintain a specific heart rate; running may be the better workout if this is a concern."
   ]
  },
  {
   "cell_type": "markdown",
   "metadata": {},
   "source": [
    "Now, circling back to the other relationships that were spotted in the SPLOM (scatter plot matrix) above.  Power and speed appeared to have a positive relationship, and power and ground time appeared to have a negative correlation.<br>\n",
    "<br>\n",
    "\n",
    "# Rule 6: Use Color Effectively\n",
    "Below, I will plot the power against speed using the Seaborn scatter plot.  Additionally, I will add a color gradient to the points; the darker the color will represent a higher heart rate."
   ]
  },
  {
   "cell_type": "code",
   "execution_count": null,
   "metadata": {},
   "outputs": [],
   "source": [
    "sns.scatterplot(data=df_labels, x='Power', y='enhanced_speed', hue='heart_rate', style='activity')\n",
    "plt.title('Power vs Spead with Heart Rate');"
   ]
  },
  {
   "cell_type": "markdown",
   "metadata": {},
   "source": [
    "The chart above shows a clear positive correlation between power and speed. The higher the power, the greater the speed.  Additionally, as you move up and to the right on the chart, the points become darker, which indicates that as power and speed increase, in general, heart rate also increases."
   ]
  },
  {
   "cell_type": "markdown",
   "metadata": {},
   "source": [
    "Next, I will do another scatter plot with Power vs Ground Time.  Ground time is a measure of how much time a runners feet are on the ground during a stride.  As done previously, I will also add a color gradient to show heart rate, with darker colors representing a higher heart rate."
   ]
  },
  {
   "cell_type": "code",
   "execution_count": null,
   "metadata": {},
   "outputs": [],
   "source": [
    "sns.scatterplot(data=df_labels, x='Power', y='Ground Time', hue='heart_rate', style='activity')\n",
    "plt.title('Power vs Ground Time with Heart Rate');"
   ]
  },
  {
   "cell_type": "markdown",
   "metadata": {},
   "source": [
    "This is a very interesting chart!  There is a negative correlation between power and ground time that is easily seen in the chart.  There is also a relationship with power and heart rate; higher power typically has a higher heart rate as seen by the very dark points on the bottom right hand side of the chart area.<br>\n",
    "Additionally, it appears that Ground Time plateaus, or bottoms out, right around 250ms.  In other words, that is the minimum ground time Professor Brooks is able to achieve, and all additional power comes at the same ground time.<br>\n",
    "This may be an area for improvement for Professor Brooks; if he is able to decrease his minimum ground time through cross training, he may be able to add some additional power to his runs."
   ]
  },
  {
   "cell_type": "markdown",
   "metadata": {},
   "source": [
    "# Basic Pandas Plots"
   ]
  },
  {
   "cell_type": "markdown",
   "metadata": {},
   "source": [
    "Below, I am going to show just a few basic charts that are built into pandas and do not need any additionally visualization packages.  If you are working with pandas dataframes, and want a \"quick and dirty\" way to visualize some of the data, this may be a good option."
   ]
  },
  {
   "cell_type": "markdown",
   "metadata": {},
   "source": [
    "Building on what we saw earlier with the Power feature in the scatter plots, I would like to do some additional analysis on Power. I read online that the Form Power Ratio is a very good way to measure your own running effciency.  Over time, as a runner improves, the FPR should gradual decrease.<br>\n",
    "In order to calculate the FPR, you just divide Form Power by Total Power, both of which are data points in our data set.  Below I will create a new column and name it FPR."
   ]
  },
  {
   "cell_type": "markdown",
   "metadata": {},
   "source": [
    "Since this feature is only available on the running data, I will drop the Cycling data from the analysis, and only focus on running data going forward.  The code below filters on running data only and creates FPR."
   ]
  },
  {
   "cell_type": "code",
   "execution_count": null,
   "metadata": {
    "scrolled": true
   },
   "outputs": [],
   "source": [
    "df_running = df_labels.loc[(df_labels['activity'] == 'Running')]\n",
    "df_running['FPR'] = df_running['Form Power'] / df_running['Power']"
   ]
  },
  {
   "cell_type": "code",
   "execution_count": null,
   "metadata": {
    "scrolled": false
   },
   "outputs": [],
   "source": [
    "df_running"
   ]
  },
  {
   "cell_type": "markdown",
   "metadata": {},
   "source": [
    "The first basic chart I will create is a box and whiskers plot of the new FPR field.  This will create a box and whiskers plot where the x axis are individual dates of exercise and the y axis are the observed values.  The median of these charts should be decreases over time if running efficiency is improving."
   ]
  },
  {
   "cell_type": "code",
   "execution_count": null,
   "metadata": {},
   "outputs": [],
   "source": [
    "pivoted = df_running.pivot_table('FPR', index=df_running.index.time, columns=df_running.index.date).replace(0,np.nan)\n",
    "pivoted.iloc[:25, :5]"
   ]
  },
  {
   "cell_type": "code",
   "execution_count": null,
   "metadata": {},
   "outputs": [],
   "source": [
    "pivoted.boxplot();"
   ]
  },
  {
   "cell_type": "markdown",
   "metadata": {},
   "source": [
    "It does appear that the median is lower for the final two runs, so maybe there is some improvement there!  I will look into this Power Ratio later on when mapping out specific routes."
   ]
  },
  {
   "cell_type": "markdown",
   "metadata": {},
   "source": [
    "Just for fun I am going to add it the day of the week to plot the days of the individual workouts."
   ]
  },
  {
   "cell_type": "markdown",
   "metadata": {},
   "source": [
    "Creating a pivot table to calculate the max distance per date"
   ]
  },
  {
   "cell_type": "code",
   "execution_count": null,
   "metadata": {},
   "outputs": [],
   "source": [
    "pivoted = df_running.pivot_table('distance', index='day_of_week', columns=df_running.index.date, aggfunc=max)\n",
    "pivoted"
   ]
  },
  {
   "cell_type": "markdown",
   "metadata": {},
   "source": [
    "Below is a simple bar chart showing the Maximum distances ran on each day of the week."
   ]
  },
  {
   "cell_type": "code",
   "execution_count": null,
   "metadata": {},
   "outputs": [],
   "source": [
    "pivoted.plot.bar(legend=False);"
   ]
  },
  {
   "cell_type": "markdown",
   "metadata": {},
   "source": [
    "Creating another pivot to calculate distances run by the time of day. "
   ]
  },
  {
   "cell_type": "code",
   "execution_count": null,
   "metadata": {},
   "outputs": [],
   "source": [
    "pivoted = df_running.pivot_table('distance', index=df_running.index.time, columns=df_running.index.date)\n",
    "pivoted"
   ]
  },
  {
   "cell_type": "markdown",
   "metadata": {},
   "source": [
    "The chart below shows the times during the day that Professor Brooks is running."
   ]
  },
  {
   "cell_type": "code",
   "execution_count": null,
   "metadata": {},
   "outputs": [],
   "source": [
    "pivoted.plot(legend=False, alpha=0.75);"
   ]
  },
  {
   "cell_type": "markdown",
   "metadata": {},
   "source": [
    "Is Brooks a night owl?  The data says Yes!"
   ]
  },
  {
   "cell_type": "markdown",
   "metadata": {},
   "source": [
    "# Advanced Visualization: Mapping with Folium"
   ]
  },
  {
   "cell_type": "markdown",
   "metadata": {},
   "source": [
    "# Rule 10: Get the Right Tool\n",
    "I will be plotting some of Professor Brooks' runs in order to study some of the metrics throughout the run, including the Power ration.<br>\n",
    "The Folium tool is perfect for this analysis because it pulls the map each time you create a chart.  This is beneficial, since I do not know exactly where Brooks has been running, so it would be difficult to pull a static map from open maps.  Additionally, if we get new additional data with new routes, it will not break this charting function.\n",
    "\n",
    "The code below prepares the latitude and longitude values for the analysis."
   ]
  },
  {
   "cell_type": "code",
   "execution_count": null,
   "metadata": {},
   "outputs": [],
   "source": [
    "df_running[\"position_lat_degrees\"] = df_running[\"position_lat\"] * ( 180 / 2**31 )\n",
    "df_running[\"position_long_degrees\"] = df_running[\"position_long\"] * ( 180 / 2**31 )\n"
   ]
  },
  {
   "cell_type": "markdown",
   "metadata": {},
   "source": [
    "Printing the min and max lat and long values just in case I needed to look up an open source map.  Luckily, the Folium packages reads in a map automatically."
   ]
  },
  {
   "cell_type": "code",
   "execution_count": null,
   "metadata": {},
   "outputs": [],
   "source": [
    "print('min lat',df_running.position_lat_degrees.min())\n",
    "print('max lat',df_running.position_lat_degrees.max())\n",
    "\n",
    "print('min long',df_running.position_long_degrees.min())\n",
    "print('max long',df_running.position_long_degrees.max())"
   ]
  },
  {
   "cell_type": "markdown",
   "metadata": {},
   "source": [
    "Below, I am creating a function to plot subplots of interest for the routes.  I put it in a function so it is generalized, and can be used to plot any double line chart."
   ]
  },
  {
   "cell_type": "code",
   "execution_count": null,
   "metadata": {},
   "outputs": [],
   "source": [
    "def double_line_plot(df, y1, y2,y,x):\n",
    "   \n",
    "    \n",
    "    lineplot = sns.lineplot(x=df.index, y=df[y1], data=df,label = y1, ax=ax[y,x])\n",
    "#     ax[0,0].set_xticks([x.strftime(\"%H:%M:%S\") for x in df.index.time])\n",
    "#     lineplot.set(xlim=(year_min-1, year_max+1))\n",
    "    sns.despine()\n",
    "#     plt.ylabel(y_label1)\n",
    "    ax[y,x].set_title(y1 + ' and ' + y2, pad=20)\n",
    "\n",
    "\n",
    "    ax2 = ax[y,x].twinx()\n",
    "\n",
    "    lineplot2 = sns.lineplot(x=df.index, y=df[y2], ax=ax2, color=\"r\", label = y2) \n",
    "    sns.despine(right=False)\n",
    "#     plt.ylabel(y_label2)\n",
    "    ax[y,x].legend(loc='upper left', frameon=True)\n",
    "    return None\n"
   ]
  },
  {
   "cell_type": "markdown",
   "metadata": {},
   "source": [
    "Below is the list of routes to plot, filtering out to include only those with the Stryd data."
   ]
  },
  {
   "cell_type": "code",
   "execution_count": null,
   "metadata": {},
   "outputs": [],
   "source": [
    "run_list = df_running.loc[np.isnan(df_running['Vertical Oscillation']) != True,:].datafile.unique()\n",
    "run_list"
   ]
  },
  {
   "cell_type": "markdown",
   "metadata": {},
   "source": [
    "Now, I will loop through all the routes, Plot the map of the route, and then below the map I will show line plots for  speed, vertical oscillation, ground time, altitude, speed, power, and power ration.  All of these charts together will be valuable for Professor Brooks to track his running efficiency over time.<br>\n",
    "<br>\n",
    "The best way to compare the charts is to only include the same route in the analysis so it is like to like comparisons."
   ]
  },
  {
   "cell_type": "code",
   "execution_count": null,
   "metadata": {
    "scrolled": false
   },
   "outputs": [],
   "source": [
    "\n",
    "colors = ['blue', 'green', 'red', 'cyan', 'magenta', 'yellow', 'black', 'orange']\n",
    "for i,d in enumerate(run_list[-5:]):\n",
    "    df = df_running.loc[df_running['datafile']==d]\n",
    "    df.dropna(subset=['position_lat_degrees','position_long_degrees'], inplace=True)\n",
    "    med_lat = df.position_lat_degrees.median()\n",
    "    med_long = df.position_long_degrees.median()\n",
    "    # Now let's render a spot from our previous data, for this we pick the center point of the map and a zoom\n",
    "    # level\n",
    "    m=folium.Map(location=[med_lat,med_long], zoom_start=14)\n",
    "    # A key eye will notice that I had to reverse our longitude and latitude for this library, *and* I'm not using\n",
    "    # the mercantor changed values for longitude. Welcome to geographical information systems!\n",
    "\n",
    "    folium.Marker([df[\"position_lat_degrees\"].iloc[0],df[\"position_long_degrees\"].iloc[0]], \n",
    "                  popup=\"Start\").add_to(m)\n",
    "    folium.Marker([df[\"position_lat_degrees\"].iloc[-1],df[\"position_long_degrees\"].iloc[-1]], \n",
    "                  popup=\"Stop\").add_to(m)\n",
    "\n",
    "    # We also want to map the whole running route. The docs for folium point to a PolyLine as the appropriate\n",
    "    # class to use. The PolyLine takes a list of locations as tuples, which means we have to combine our latiude\n",
    "    # and longitude values pairwise, and this is easily achieved through the use of python's zip() function\n",
    "    route=folium.PolyLine(locations=zip(df[\"position_lat_degrees\"],df[\"position_long_degrees\"]),\n",
    "                        weight=5,color=colors[i%8]).add_to(m)\n",
    "\n",
    "# Let's take a look at that\n",
    "    display(m)\n",
    "    print(\"Start Time:\",df.index[0])\n",
    "    print(\"End Time:\",df.index[-1])\n",
    "    print(\"Duration:\",df.index[-1]-df.index[0])\n",
    "    fig, ax = plt.subplots(2,2,figsize=(16,9))\n",
    "    double_line_plot(df,'enhanced_speed', 'Vertical Oscillation',0,0)\n",
    "    double_line_plot(df,'Ground Time', 'enhanced_altitude',1,0)\n",
    "    double_line_plot(df,'enhanced_speed', 'FPR',0,1)\n",
    "    double_line_plot(df,'Power', 'enhanced_speed',1,1)\n",
    "    plt.subplots_adjust(bottom=0.1, top=1.4)\n",
    "    plt.show()\n"
   ]
  },
  {
   "cell_type": "markdown",
   "metadata": {},
   "source": [
    "From the Charts above, it appears that Professor Brooks likes to \"sprint to the finish line\" at the end of his runs.  Just about all the the runs have a spike in speed right at the end.  This burst in speed is associated with a predictable increase in Power as well; however, his running efficiency is far worse at the end of these runs during this sprint period.  Studying the vertical oscillation, which should be minimized (and should decrease over time if the runner is improving) there is a spike at the end of almost every run.<br>\n",
    "I admire the sprint at the end of the run, and I myself do it too, but a suggestion would be to try to do it while maintaining an efficient running gait. "
   ]
  },
  {
   "cell_type": "code",
   "execution_count": null,
   "metadata": {},
   "outputs": [],
   "source": []
  },
  {
   "cell_type": "code",
   "execution_count": null,
   "metadata": {},
   "outputs": [],
   "source": []
  }
 ],
 "metadata": {
  "kernelspec": {
   "display_name": "Python 3",
   "language": "python",
   "name": "python3"
  },
  "language_info": {
   "codemirror_mode": {
    "name": "ipython",
    "version": 3
   },
   "file_extension": ".py",
   "mimetype": "text/x-python",
   "name": "python",
   "nbconvert_exporter": "python",
   "pygments_lexer": "ipython3",
   "version": "3.8.5"
  }
 },
 "nbformat": 4,
 "nbformat_minor": 5
}
